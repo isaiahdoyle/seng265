{
 "cells": [
  {
   "cell_type": "markdown",
   "metadata": {},
   "source": [
    "# Term Portfolio - SENG 265 (Part 1)\n",
    "\n",
    "Isaiah Doyle, Spring 2022"
   ]
  },
  {
   "cell_type": "markdown",
   "metadata": {},
   "source": [
    "## 1. What is my background in Jupyter? What is the core functionality of Jupyter notebooks?\n",
    "\n",
    "> Throughout my time programming and working with code, Jupyter has been relatively out of the scope of my projects. Jupyter notebooks are a tool that can massively increase integrity and help legitimize the work done by those in computer science or software development. For example, if one were to come up with some idea at some point while coding, keeping a journal would be a game changer when trying to prove that said idea was actually yours.\n",
    "\n",
    "## 2. Summarize simple Jupyter notebook markdown including how to insert links and images.\n",
    "\n",
    "> Jupyter uses a specialized markdown that allows for simple text styling for documents. Some examples of the syntax used by Jupyter are:\n",
    ">\n",
    "> - *Italics*: `*italics*`\n",
    ">\n",
    "> - **Bold**: `**bold**`\n",
    ">\n",
    "> - Insert link: `[link alias](url)`\n",
    ">\n",
    "> - Insert image: `![alt text](image url)`\n",
    ">\n",
    "> - Heading: `#, ##, ... ######`\n",
    ">\n",
    "> - Blockquote: `> blockquote`\n",
    ">\n",
    "> - Ordered List: `1.`, `2.`, etc.\n",
    ">\n",
    "> - Unordered List: `-` or `*`\n",
    "\n",
    "\n",
    "## 3. How can I typset mathematical formulas including Greek letters using LaTeX in Jupyter?\n",
    "\n",
    "> With a general understanding of LaTeX, the hard part about inserting equations and special characters in Jupyter  is over. To insert an inline equation, simply wrap the equation (of LaTeX sytnax) in dollar signs (i.e., `$ [equation $`). For block equations, wrap the equation with two dollar signs (i.e., `$$ [equation] $$`). For example, consider the definition of the continuous-time Fourier transform:\n",
    "> $$ \\mathcal Fx(\\omega) = X(\\omega) = \\int_{-\\infty}^\\infty x(t)e^{-j\\omega t}\\ dt. $$\n",
    "\n",
    "## 4. What is my background in Unix/Linux? How prevalent are such operating systems in software development?\n",
    "\n",
    "> In the late '60s and early '70s, a group of researchers at AT&T Bell Labs began developing an operating system on a microcomputer called the PDP-7. The computer would quickly go out of style, but the operating system, now called Unix, was rewritten in C such that it was able to switch to new hardware as it came. Unix spread like wildfire among technology corporations and many different versions were created and are now used today (e.g., macOS).\n",
    ">\n",
    "> Eventually in 1991, under the Free Software Foundation, the Linux kernel was brought to the table, and combined with the rest of the GNU project (i.e., a functionality that wrapped up the OS with a heavily functional bow), served as a totally free alternative to Unix. \n",
    ">\n",
    "> Although I haven't diven into the structure of operating systems to much extent, I've been deeply interested in beginning to learn for a while. Having worked in teams on small and large development projects, it's become increasingly clear that Unix and Linux are huge in the tech industry and crucial to understand in order to pick up increasingly complex concepts in computer science. I can't wait to learn more!\n",
    "\n",
    "*Source: [tldp](https://tldp.org/HOWTO/Secure-Programs-HOWTO/history.html)*\n",
    "\n",
    "## 5. What is the core functionality of the Bash command and scripting language?\n",
    "\n",
    "> The Bourne Again Shell, or Bash, is the shell made for the GNU project, supported by the Free Software Foundation. Bash was intended to be a free, open source mix of C shell and Korn shell, but most importantly, a free alternative to Unix's Bourne Shell.\n",
    ">\n",
    "> The purpose of Bash, and shells as a whole, is to translate commands between the user and computer to execute tasks effectively through a command line interface (CLI). This allows for a more intimate and powerful experience when working with your machine, and is imperative to an efficient workflow.\n",
    "\n",
    "*Source: [opensource.com](https://opensource.com/19/9/command-line-heroes-bash)*\n",
    "\n",
    "## 6. Why is version control and configuration management critical in software development projects?\n",
    "\n",
    "> For large-scale projects, the development process is riddled with potential errors and without a solidified management plan in place, a project of any size can quickly become a total nightmare to work with. For this reason, version control and management technology is imperative in leading a successful workflow.\n",
    ">\n",
    "> Version control allows teams and individuals to keep track of the development process in a way that makes room for error, and allows developers to take any number of steps back - or forward - when the need arises.\n",
    "\n",
    "## 7. What are the core functionalities of Git, Github, and Gitlab?\n",
    "\n",
    "> Git is an open source version control and project management software that allows developers to organize their workflow as described in prompt 6. Github and Gitlab are external software that both allow users to make public and private repositories to allow other developers to contribute on whatever projects are pushed to Github/Gitlab via Git. The core functionality of Github and Gitlab are collaboration, which is absolutely vital for many large-scale projects in which sometimes hundreds of developers can be working on the same project at once.\n",
    "\n",
    "## 8. What is my background in C programming? How prevalent is C in software development?\n",
    "\n",
    "> I've been interested in learning C/C#/C++ for a significant amount of time, but due to either lack of motivation or time I haven't studied enough to merit any credit. Although old, C is present in almost all technology that surrounds us. Operating systems, web browsers, large programs, and small programs all rely on C in some way. Due to this, I'm super pumped for an excuse to actually focus on C programming.\n",
    "\n",
    "## 9. What is my background in Python? How prevalent is Python in software development?\n",
    "\n",
    "> I was introduced to programming through Python in late high school, and continued my studies in my first year of university in CSC 110. Since then, I've grown to love Java, React, and everything in between. I look forward to moving back into Python due to its intuitive design.\n",
    "\n",
    "## 10. What are my personal insights, \"aha\" moments, or epiphanies I experienced in the first part of SENG 265?\n",
    "\n",
    "> I'm no stranger to my terminal, but I had never used it previously for much more than moving about directories and making minor modifications to files. Now, with Vim in the picture as well, I am almost overwhelmed with the amount of potential bundled into nothing but a plain text command line."
   ]
  }
 ],
 "metadata": {
  "kernelspec": {
   "display_name": "Python 3",
   "language": "python",
   "name": "python3"
  },
  "language_info": {
   "codemirror_mode": {
    "name": "ipython",
    "version": 3
   },
   "file_extension": ".py",
   "mimetype": "text/x-python",
   "name": "python",
   "nbconvert_exporter": "python",
   "pygments_lexer": "ipython3",
   "version": "3.8.3"
  }
 },
 "nbformat": 4,
 "nbformat_minor": 4
}
